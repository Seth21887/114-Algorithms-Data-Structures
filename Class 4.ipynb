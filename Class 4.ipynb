{
 "cells": [
  {
   "cell_type": "code",
   "execution_count": 4,
   "id": "98aa1fed",
   "metadata": {},
   "outputs": [],
   "source": [
    "# Doubly Linked Lists: 2 pointers, one to next and one to previous\n",
    "# we can now traverse in both directions\n",
    "#every operation (insert, remove, etc) requires twice as many references\n",
    "\n",
    "class Node:\n",
    "    def __init__(self, data):\n",
    "        self.next = None\n",
    "        self.prev = None\n",
    "        self.data = data"
   ]
  },
  {
   "cell_type": "code",
   "execution_count": 7,
   "id": "8ee5542c",
   "metadata": {},
   "outputs": [
    {
     "ename": "SyntaxError",
     "evalue": "invalid syntax (1028483747.py, line 70)",
     "output_type": "error",
     "traceback": [
      "\u001b[0;36m  Input \u001b[0;32mIn [7]\u001b[0;36m\u001b[0m\n\u001b[0;31m    for value:\u001b[0m\n\u001b[0m             ^\u001b[0m\n\u001b[0;31mSyntaxError\u001b[0m\u001b[0;31m:\u001b[0m invalid syntax\n"
     ]
    }
   ],
   "source": [
    "class DoublyLinkedList:\n",
    "    def __init__(self):\n",
    "        self.head = None\n",
    "        self.tail = None\n",
    "        \n",
    "    def append(self, value):\n",
    "        if not self.head:\n",
    "            self.head = Node(value)\n",
    "            self.tail = self.head\n",
    "        else:\n",
    "            #for append, we only have to traverse in one direction\n",
    "            current = self.head\n",
    "            while current.next:\n",
    "                current = current.next\n",
    "            new_node = Node(value)\n",
    "            current.next = new_node\n",
    "            new_node.prev = current\n",
    "            self.tail = new_node\n",
    "            \n",
    "    def __str__(self):\n",
    "        out = \"[%s\" % self.head.data\n",
    "        current = self.head.next\n",
    "        while current:\n",
    "            out += \", %s\" % current.data\n",
    "            current = current.next\n",
    "        out += \"]\"\n",
    "        return out\n",
    "    \n",
    "    def __len__(self):\n",
    "        #this function should return the length of our list as an integer\n",
    "        if not self.head:\n",
    "            return 0\n",
    "        else:\n",
    "            counter = 0\n",
    "            current = self.head\n",
    "            while current != None:\n",
    "                counter += 1\n",
    "                current = current.next\n",
    "        return counter\n",
    "    \n",
    "    def sequential_search(self, value):\n",
    "        #traversing our list from left to right\n",
    "        #eventually one of the conditions will break\n",
    "        #if we ensure our list is ordered, once a value is reached that is greater than the value we're looking for, we can end the loop\n",
    "        current = self.head\n",
    "        while current.data != value and current.next:\n",
    "            current = current.next\n",
    "            # if current.data > value:\n",
    "                # break\n",
    "        if current.data == value:\n",
    "            return True\n",
    "        return False\n",
    "    \n",
    "    def binary_search(self, value):\n",
    "        #how to use pivots when searching for items or traversing\n",
    "        #we need the __len__() function for this to work\n",
    "        #loop infinitely:\n",
    "            #midpoint = the node at (length of our list) / 2\n",
    "            #if value is greater than midpoint.data:\n",
    "            #   pivot1 = midpoint\n",
    "            #else if value is less than midpoint.data:\n",
    "            #   pivot2 = midpoint\n",
    "            #if value == midpoint.data:\n",
    "            #   return True\n",
    "            #if pivot1 >= pivot2      #once the pivots cross themselves, return false because data wasn't found\n",
    "            #   return False\n",
    "        pivot1 = self.head\n",
    "        pivot2 = self.tail\n",
    "        midpoint = __len__() / 2\n",
    "        for value:\n",
    "            if value > midpoint.data:\n",
    "                pivot1 = midpoint\n",
    "            elif value < midpoint.data:\n",
    "                pivot2 = midpoint\n",
    "            else: #this will be the case if value == midpoint.data\n",
    "                return True\n",
    "        \n",
    "        \n",
    "        pass"
   ]
  },
  {
   "cell_type": "code",
   "execution_count": 6,
   "id": "aa34985f",
   "metadata": {},
   "outputs": [
    {
     "name": "stdout",
     "output_type": "stream",
     "text": [
      "[1, 2, 3, 4, 5, 6, 7, 8, 9, 10, 11, 12, 13, 14, 15, 16, 17, 18, 19, 20, 21, 22, 23, 24, 25, 26, 27, 28, 29, 30, 31, 32, 33, 34, 35, 36, 37, 38, 39, 40, 41, 42, 43, 44, 45, 46, 47, 48, 49, 50, 51, 52, 53, 54, 55, 56, 57, 58, 59, 60, 61, 62, 63, 64, 65, 66, 67, 68, 69, 70, 71, 72, 73, 74, 75, 76, 77, 78, 79, 80, 81, 82, 83, 84, 85, 86, 87, 88, 89, 90, 91, 92, 93, 94, 95, 96, 97, 98, 99, 100]\n"
     ]
    }
   ],
   "source": [
    "from random import randint\n",
    "dll = DoublyLinkedList()\n",
    "\n",
    "for i in range(1, 101):\n",
    "    dll.append(i)\n",
    "    \n",
    "print(dll)"
   ]
  },
  {
   "cell_type": "code",
   "execution_count": null,
   "id": "04377f1d",
   "metadata": {},
   "outputs": [],
   "source": []
  },
  {
   "cell_type": "code",
   "execution_count": 10,
   "id": "854969ff",
   "metadata": {},
   "outputs": [
    {
     "data": {
      "text/plain": [
       "354224848179261915075"
      ]
     },
     "execution_count": 10,
     "metadata": {},
     "output_type": "execute_result"
    }
   ],
   "source": [
    "# hash tables\n",
    "#fibonacci: every number is the sum of the two previous numbers in the list\n",
    "#recursive function: it calls itself at least once within the function \n",
    "\n",
    "from functools import lru_cache\n",
    "\n",
    "@lru_cache #its going to store the function calls that have already been calculated, and will turn the time complexity to linear, much faster\n",
    "def fib(n):\n",
    "    if n < 2:\n",
    "        return n\n",
    "    return fib(n-1) + fib(n-2)\n",
    "\n",
    "fib(100)"
   ]
  },
  {
   "cell_type": "code",
   "execution_count": null,
   "id": "77d2c56c",
   "metadata": {},
   "outputs": [],
   "source": []
  }
 ],
 "metadata": {
  "kernelspec": {
   "display_name": "Python 3 (ipykernel)",
   "language": "python",
   "name": "python3"
  },
  "language_info": {
   "codemirror_mode": {
    "name": "ipython",
    "version": 3
   },
   "file_extension": ".py",
   "mimetype": "text/x-python",
   "name": "python",
   "nbconvert_exporter": "python",
   "pygments_lexer": "ipython3",
   "version": "3.8.10"
  }
 },
 "nbformat": 4,
 "nbformat_minor": 5
}
