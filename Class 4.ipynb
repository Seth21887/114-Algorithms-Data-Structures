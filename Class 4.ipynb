{
 "cells": [
  {
   "cell_type": "code",
   "execution_count": 1,
   "id": "98aa1fed",
   "metadata": {},
   "outputs": [],
   "source": [
    "# Doubly Linked Lists: 2 pointers, one to next and one to previous\n",
    "# we can now traverse in both directions\n",
    "#every operation (insert, remove, etc) requires twice as many references\n",
    "\n",
    "class Node:\n",
    "    def __init__(self, data):\n",
    "        self.next = None\n",
    "        self.prev = None\n",
    "        self.data = data"
   ]
  },
  {
   "cell_type": "code",
   "execution_count": 9,
   "id": "8ee5542c",
   "metadata": {},
   "outputs": [],
   "source": [
    "class DoublyLinkedList:\n",
    "    def __init__(self):\n",
    "        self.head = None\n",
    "        self.tail = None\n",
    "        \n",
    "    def append(self, value):\n",
    "        if not self.head:\n",
    "            self.head = Node(value)\n",
    "            self.tail = self.head\n",
    "        else:\n",
    "            #for append, we only have to traverse in one direction\n",
    "            current = self.head\n",
    "            while current.next:\n",
    "                current = current.next\n",
    "            new_node = Node(value)\n",
    "            current.net = new_node\n",
    "            new_node.prev = current\n",
    "            self.tail = new_node\n",
    "            \n",
    "    def __str__(self):\n",
    "        out = \"[%s\" % self.head.data\n",
    "        current = self.head.next\n",
    "        while current:\n",
    "            out += \", %s\" % current.data\n",
    "            current = current.next\n",
    "        out += \"]\"\n",
    "        return out\n",
    "    \n",
    "    def sequential_search(self, value):\n",
    "        #traversing our list from left to right\n",
    "        #eventually one of the conditions will break\n",
    "        #if we ensure our list is ordered, once a value is reached that is greater than the value we're looking for, we can end the loop\n",
    "        current = self.head\n",
    "        while current.data != value and current.next:\n",
    "            current = current.next\n",
    "            # if current.data > value:\n",
    "                # break\n",
    "        if current.data == value:\n",
    "            return True\n",
    "        return False\n",
    "    \n",
    "    def binary_search(self, value):\n",
    "        #how to use pivots when searching for items or traversing\n",
    "        #we need the __len__() function for this to work\n",
    "        #loop infinitely:\n",
    "            #pivot1 = self.head\n",
    "            #pivot2 = self.tail\n",
    "            #midpoint = the node at (length of our list) / 2\n",
    "            #if value is greater than midpoint.data:\n",
    "            #   pivot1 = midpoint\n",
    "            #else if value is less than midpoint.data:\n",
    "            #   pivot2 = midpoint\n",
    "            #if value == midpoint.data:\n",
    "            #   return True\n",
    "            #if pivot1 >= pivot2      #once the pivots cross themselves, return false because data wasn't found\n",
    "            #   return False\n",
    "        pass"
   ]
  },
  {
   "cell_type": "code",
   "execution_count": 8,
   "id": "aa34985f",
   "metadata": {},
   "outputs": [
    {
     "name": "stdout",
     "output_type": "stream",
     "text": [
      "[51]\n"
     ]
    }
   ],
   "source": [
    "from random import randint\n",
    "dll = DoublyLinkedList()\n",
    "\n",
    "for i in range(1, 101):\n",
    "    dll.append(i)\n",
    "    \n",
    "print(dll)"
   ]
  },
  {
   "cell_type": "code",
   "execution_count": 10,
   "id": "854969ff",
   "metadata": {},
   "outputs": [
    {
     "data": {
      "text/plain": [
       "354224848179261915075"
      ]
     },
     "execution_count": 10,
     "metadata": {},
     "output_type": "execute_result"
    }
   ],
   "source": [
    "# hash tables\n",
    "#fibonacci: every number is the sum of the two previous numbers in the list\n",
    "#recursive function: it calls itself at least once within the function \n",
    "\n",
    "from functools import lru_cache\n",
    "\n",
    "@lru_cache #its going to store the function calls that have already been calculated, and will turn the time complexity to linear, much faster\n",
    "def fib(n):\n",
    "    if n < 2:\n",
    "        return n\n",
    "    return fib(n-1) + fib(n-2)\n",
    "\n",
    "fib(100)"
   ]
  },
  {
   "cell_type": "code",
   "execution_count": null,
   "id": "77d2c56c",
   "metadata": {},
   "outputs": [],
   "source": []
  }
 ],
 "metadata": {
  "kernelspec": {
   "display_name": "Python 3 (ipykernel)",
   "language": "python",
   "name": "python3"
  },
  "language_info": {
   "codemirror_mode": {
    "name": "ipython",
    "version": 3
   },
   "file_extension": ".py",
   "mimetype": "text/x-python",
   "name": "python",
   "nbconvert_exporter": "python",
   "pygments_lexer": "ipython3",
   "version": "3.8.10"
  }
 },
 "nbformat": 4,
 "nbformat_minor": 5
}
