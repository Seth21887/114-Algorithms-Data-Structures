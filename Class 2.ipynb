{
 "cells": [
  {
   "cell_type": "code",
   "execution_count": 2,
   "id": "bfe21e8f",
   "metadata": {},
   "outputs": [],
   "source": [
    "class Node:\n",
    "    def __init__(self, data):\n",
    "        self.above = None\n",
    "        self.below = None\n",
    "        self.data = data\n"
   ]
  },
  {
   "cell_type": "code",
   "execution_count": 12,
   "id": "9994a8d9",
   "metadata": {},
   "outputs": [],
   "source": [
    "class Stack:\n",
    "    def __init__(self):\n",
    "        self.base = None\n",
    "        self.top = None\n",
    "    \n",
    "    #best and worst case of time complexity is big O of 1, they are happening in real time, no loops.\n",
    "    def push(self, element):\n",
    "        if not self.base:     #if there is no base, then the base becomes our new node\n",
    "            self.base = Node(element)   #instantiate the Node class\n",
    "            self.top = self.base\n",
    "        else:\n",
    "            topmost_item = self.top\n",
    "            new_node = Node(element)\n",
    "            topmost_item.above = new_node\n",
    "            new_node.below = topmost_item #below is the previous topmost_item\n",
    "            self.top = new_node\n",
    "        \n",
    "    def pop(self):   #as soon as there are no more references to a node, then it will no longer exist\n",
    "        if not self.base:\n",
    "            raise IndexError(\"Stack empty.\")\n",
    "        if self.top == self.base: #we've reached the base, set references to none, and return the value\n",
    "            value = self.base.data\n",
    "            self.top = None\n",
    "            self.base = None\n",
    "            return value\n",
    "        new_top = self.top.below #referencing the node below the topmost node\n",
    "        old_top = self.top #the actual top\n",
    "        new_top.above = None\n",
    "        self.top = new_top #new top is now the topmost item\n",
    "        return old_top.data\n",
    "    \n",
    "    def size(self):\n",
    "        #should return the total amount of elements in our stack\n",
    "        #this should return an Integer that represents our stack's size.\n",
    "        #i need to start at the base, is there a base?\n",
    "        #every element added to our stack will have two pointers\n",
    "        #we can keep moving up as long as the above pointer is not pointing to None\n",
    "        #this is called Node traversal\n",
    "        if not self.base: # can also be written as if self.base == None\n",
    "            return 0\n",
    "        count = 1\n",
    "        current = self.base\n",
    "        while current.above: # shorthand for \"while current.above != None\"\n",
    "            count += 1\n",
    "            current = current.above\n",
    "        return count\n",
    "    \n",
    "    def is_empty(self):\n",
    "        #should return True f stack is empty, False otherwise\n",
    "        if not self.base:\n",
    "            return True\n",
    "        return False\n",
    "    \n",
    "    def peek(self):\n",
    "        return self.top.data\n",
    "        \n",
    "        "
   ]
  },
  {
   "cell_type": "code",
   "execution_count": 8,
   "id": "5372009a",
   "metadata": {},
   "outputs": [],
   "source": [
    "def reverse_string(mystring):\n",
    "    output_str = \"\"\n",
    "    stack = Stack()\n",
    "    for letter in mystring:\n",
    "        stack.push(letter)\n",
    "    for _ in range(len(mystring)):\n",
    "        output_str += stack.pop()\n",
    "    return output_str"
   ]
  },
  {
   "cell_type": "code",
   "execution_count": 9,
   "id": "2399e2e5",
   "metadata": {},
   "outputs": [
    {
     "data": {
      "text/plain": [
       "'hteS'"
      ]
     },
     "execution_count": 9,
     "metadata": {},
     "output_type": "execute_result"
    }
   ],
   "source": [
    "reverse_string(\"Seth\")"
   ]
  },
  {
   "cell_type": "code",
   "execution_count": 16,
   "id": "cd054e83",
   "metadata": {},
   "outputs": [
    {
     "name": "stdout",
     "output_type": "stream",
     "text": [
      "10\n"
     ]
    }
   ],
   "source": [
    "stack = Stack()\n",
    "for i in range(10):\n",
    "    stack.push(i)\n",
    "    \n",
    "assert stack.size() == 10\n",
    "print(stack.size())"
   ]
  },
  {
   "cell_type": "code",
   "execution_count": 17,
   "id": "c80bf925",
   "metadata": {},
   "outputs": [
    {
     "name": "stdout",
     "output_type": "stream",
     "text": [
      "[1, 2, 3, 4]\n",
      "140393895970944\n",
      "140393895970944\n"
     ]
    }
   ],
   "source": [
    "# passing by reference\n",
    "\n",
    "x = [1,2,3,4,5]\n",
    "y = x\n",
    "x.pop()\n",
    "print(y)\n",
    "print(id(x))\n",
    "print(id(y)) #will show the address in the memory"
   ]
  },
  {
   "cell_type": "code",
   "execution_count": 19,
   "id": "7bf0b2d1",
   "metadata": {},
   "outputs": [],
   "source": [
    "class Queue:\n",
    "    def __init__(self):\n",
    "        self.items = []\n",
    "        \n",
    "    def enqueue(self, element):\n",
    "        self.items.insert(0, element) #insert allows us to specify an index and inserts the element before that index, essentially becoming the new 0 for that list\n",
    "        \n",
    "    def dequeue(self):\n",
    "        return self.items.pop() #will always return the last element on our list, or the tail.\n",
    "    \n",
    "    def size(self):\n",
    "        return len(self.items)\n",
    "    \n",
    "    def is_empty(self):\n",
    "        return self.items == []\n",
    "    \n",
    "    def peek(self):\n",
    "        return self.items[len(self.items)-1]"
   ]
  },
  {
   "cell_type": "code",
   "execution_count": 20,
   "id": "effd4809",
   "metadata": {},
   "outputs": [
    {
     "name": "stdout",
     "output_type": "stream",
     "text": [
      "Element: 0\n",
      "Element: 1\n",
      "Element: 2\n",
      "Element: 3\n",
      "Element: 4\n",
      "Element: 5\n",
      "Element: 6\n",
      "Element: 7\n",
      "Element: 8\n",
      "Element: 9\n"
     ]
    }
   ],
   "source": [
    "queue = Queue()\n",
    "\n",
    "for i in range(10):\n",
    "    queue.enqueue(i)\n",
    "    \n",
    "while not queue.is_empty():\n",
    "    print(\"Element: %s\" % queue.dequeue())"
   ]
  },
  {
   "cell_type": "code",
   "execution_count": 21,
   "id": "b5d62b3f",
   "metadata": {},
   "outputs": [],
   "source": [
    "# Implement a Queue class without using a Python list based on our approach with Stack.\n",
    "# Consider using a Node class for this as well.\n",
    "#\n",
    "\n",
    "class Node:\n",
    "    def __init__(self, data):\n",
    "        self.ahead = None\n",
    "        self.behind = None\n",
    "        self.data = data\n",
    "        \n",
    "class Queue:\n",
    "    def __init__(self):\n",
    "        self.back = None\n",
    "        self.front = None\n",
    "        \n",
    "    def enqueue(self, element):\n",
    "        if not self.back:\n",
    "            self.back = Node(element)\n",
    "            self.front = self.back\n",
    "        else:\n",
    "            last_item = self.back\n",
    "            new_node = Node(element)\n",
    "            last_item.behind = new_node\n",
    "            new_node.ahead = last_item\n",
    "            self.back = new_node\n",
    "            \n",
    "class dequeue(self):\n",
    "    if not self.back:\n",
    "        raise IndexError(\"Queue is empty\")\n",
    "    \n",
    "\n",
    "def is_empty(self):\n",
    "        #should return True if queue is empty, False otherwise\n",
    "        if not self.back:\n",
    "            return True\n",
    "        return False\n",
    "           "
   ]
  },
  {
   "cell_type": "code",
   "execution_count": 22,
   "id": "4530cee6",
   "metadata": {},
   "outputs": [],
   "source": [
    "class QNode:\n",
    "    def __init__(self, data):\n",
    "        self.front = None\n",
    "        self.back = None\n",
    "        self.data = data\n",
    "\n",
    "class Queue:\n",
    "    def __init__(self):\n",
    "        self.next = None\n",
    "        self.last = None\n",
    "        \n",
    "    def enqueue(self, element):\n",
    "        new_node = QNode(element)\n",
    "        if not self.last:\n",
    "            self.last = new_node\n",
    "            self.next = self.last\n",
    "        else:\n",
    "            new_node.front = self.last\n",
    "            self.last.back = new_node\n",
    "            self.last = new_node\n"
   ]
  },
  {
   "cell_type": "code",
   "execution_count": null,
   "id": "8af6c085",
   "metadata": {},
   "outputs": [],
   "source": []
  }
 ],
 "metadata": {
  "kernelspec": {
   "display_name": "Python 3 (ipykernel)",
   "language": "python",
   "name": "python3"
  },
  "language_info": {
   "codemirror_mode": {
    "name": "ipython",
    "version": 3
   },
   "file_extension": ".py",
   "mimetype": "text/x-python",
   "name": "python",
   "nbconvert_exporter": "python",
   "pygments_lexer": "ipython3",
   "version": "3.8.10"
  }
 },
 "nbformat": 4,
 "nbformat_minor": 5
}
