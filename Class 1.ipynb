{
 "cells": [
  {
   "cell_type": "code",
   "execution_count": 1,
   "id": "79d467d0",
   "metadata": {
    "scrolled": true
   },
   "outputs": [
    {
     "name": "stdout",
     "output_type": "stream",
     "text": [
      "h\n",
      "e\n",
      "l\n",
      "l\n",
      "o\n",
      ",\n",
      " \n",
      "w\n",
      "o\n",
      "r\n",
      "l\n",
      "d\n"
     ]
    }
   ],
   "source": [
    "for letter in \"hello, world\":\n",
    "    print(letter)"
   ]
  },
  {
   "cell_type": "markdown",
   "id": "03e499dd",
   "metadata": {},
   "source": [
    "# Problem 1\n",
    "\n",
    "### Given two strings (string_a and string_b) determine if they are anagrams of each other given the following criteria:\n",
    "\n",
    "> Two strings are only anagrams of each other if all conditions below are met:\n",
    "> * They must be exactly the same length\n",
    "> * They must use exactly the same characters (no more, no less).\n",
    "\n",
    "`Examples: cars and scar, heart and earth, etc.`\n",
    "\n",
    "## Instructions\n",
    "Create a function called \"anagram_check\" that returns true if the two parameters (both strings) submitted are anagrams of each other and false otherwise."
   ]
  },
  {
   "cell_type": "code",
   "execution_count": null,
   "id": "67aeade7",
   "metadata": {},
   "outputs": [],
   "source": [
    "#examine the two strings.\n",
    "#is the length of both strings the same? if len() == --> True, if len() != --> False\n",
    "#do the two strings have the same characters? \n",
    "\n",
    "def anagram_check(str1, str2):\n",
    "    str1=str1.lower()\n",
    "    str2=str2.lower()\n",
    "    if len(str1) != len(str2):\n",
    "        return False\n",
    "    \n",
    "    "
   ]
  },
  {
   "cell_type": "code",
   "execution_count": 6,
   "id": "b816c341",
   "metadata": {},
   "outputs": [
    {
     "data": {
      "text/plain": [
       "True"
      ]
     },
     "execution_count": 6,
     "metadata": {},
     "output_type": "execute_result"
    }
   ],
   "source": [
    "def anagram_check(string_a, string_b):\n",
    "    string_a = (string_a.lower()).replace(\" \", \"\")\n",
    "    string_b = (string_b.lower()).replace(\" \", \"\")\n",
    "    if len(string_a) != len(string_b):\n",
    "        return False\n",
    "    char_times_a = dict()\n",
    "    char_times_b = dict()\n",
    "    for i in range(len(string_a)):\n",
    "        if string_a[i] not in char_times_a.keys():\n",
    "            char_times_a[string_a[i]] = 1\n",
    "        else:\n",
    "            char_times_a[string_a[i]] += 1\n",
    "        if string_b[i] not in char_times_b.keys():\n",
    "            char_times_b[string_b[i]] = 1\n",
    "        else:\n",
    "            char_times_b[string_b[i]] += 1\n",
    "    return char_times_a == char_times_b\n",
    "\n",
    "anagram_check(\"I am Lord Voldemort\", \"Tom Marvolo Riddle\")"
   ]
  },
  {
   "cell_type": "code",
   "execution_count": null,
   "id": "22130d74",
   "metadata": {},
   "outputs": [],
   "source": [
    "# \"I am Lord Voldemort\" is an anagram of \"Tom Marvolo Riddle\"\n",
    "#letter case: we can add the lower function to each string at the beginning of the function to make case not matter.\n",
    "#How to nullify spaces within a string???\n",
    "#Will a space be included in keys()??\n",
    "#if string_a[i] == \" \", disregard (how do i disregard?)\n",
    "#remove the spaces from both strings\n",
    "#replace function to replace spaces with empty strings"
   ]
  },
  {
   "cell_type": "code",
   "execution_count": null,
   "id": "9008d1e6",
   "metadata": {},
   "outputs": [],
   "source": [
    "#this is the easy way to implement a stack\n",
    "#using a python list that we're giving the items attribute\n",
    "#with push, given element as our parameter, all we have to do is append that element to our items list (adds to tail)\n",
    "#with pop, its a destructive function, it removes and returns the top most element in our list; pop doesn't need a parameter\n",
    "\n",
    "class Stack:\n",
    "    def __init__(self):\n",
    "        self.items = []\n",
    "        \n",
    "    def push(self, element):\n",
    "        self.items.append(element)\n",
    "        \n",
    "    def pop(self):\n",
    "        return self.items.pop()\n",
    "        \n",
    "    def size(self):\n",
    "        return len(self.items)\n",
    "    def peek(self):\n",
    "        return self.items[len(self.items-1)]\n",
    "    def is_empty(self):\n",
    "        return self.items == []"
   ]
  },
  {
   "cell_type": "markdown",
   "id": "eb3b4377",
   "metadata": {},
   "source": [
    "# Problem 2\n",
    "### Use our stack class to invert a string.\n",
    "\n",
    "## Instructions\n",
    "Create a function called \"string_reverse\" that takes a string as a parameter and inverts it using our stack class.\n",
    "*Your function must use our stack class!*\n",
    "\n",
    "Examples:\n",
    "```\n",
    "string_reverse(\"Rafael\") should return \"leafaR\"\n",
    "string_reverse(\"cars\") should return \"srac\"\n",
    "etc.\n",
    "```"
   ]
  },
  {
   "cell_type": "code",
   "execution_count": 23,
   "id": "730fd95a",
   "metadata": {},
   "outputs": [
    {
     "name": "stdout",
     "output_type": "stream",
     "text": [
      "srac\n",
      "hteS\n"
     ]
    }
   ],
   "source": [
    "class Stack:\n",
    "    def __init__(self):\n",
    "        self.items = []\n",
    "        \n",
    "    def push(self, element):\n",
    "        self.items.append(element)\n",
    "        \n",
    "    def string_reverse(x):\n",
    "        return x[::-1]\n",
    "        self.push(self, x)\n",
    "        \n",
    "    def pop(self):\n",
    "        self.items.pop()\n",
    "        \n",
    "    def size(self):\n",
    "        return len(self.items)\n",
    "    def peek(self):\n",
    "        return self.items[len(self.items-1)]\n",
    "    def is_empty(self):\n",
    "        return self.items == []\n",
    "    \n",
    "    print(string_reverse(\"cars\"))\n",
    "    print(string_reverse(\"Seth\"))\n",
    "    \n"
   ]
  },
  {
   "cell_type": "code",
   "execution_count": null,
   "id": "4af69343",
   "metadata": {},
   "outputs": [],
   "source": [
    "def string_reverse(input_string):\n",
    "    inverted_string = \"\"\n",
    "    stack = Stack()\n",
    "    for letter in input_string:\n",
    "        stack.push(letter)\n",
    "    while not stack.is_empty()"
   ]
  }
 ],
 "metadata": {
  "kernelspec": {
   "display_name": "Python 3 (ipykernel)",
   "language": "python",
   "name": "python3"
  },
  "language_info": {
   "codemirror_mode": {
    "name": "ipython",
    "version": 3
   },
   "file_extension": ".py",
   "mimetype": "text/x-python",
   "name": "python",
   "nbconvert_exporter": "python",
   "pygments_lexer": "ipython3",
   "version": "3.8.10"
  }
 },
 "nbformat": 4,
 "nbformat_minor": 5
}
